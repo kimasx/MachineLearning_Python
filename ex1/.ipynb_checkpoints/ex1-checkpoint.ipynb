{
 "cells": [
  {
   "cell_type": "code",
   "execution_count": 1,
   "metadata": {
    "collapsed": true
   },
   "outputs": [],
   "source": [
    "import pandas as pd\n",
    "import numpy as np\n",
    "import matplotlib.pyplot as plt\n",
    "%matplotlib inline"
   ]
  },
  {
   "cell_type": "code",
   "execution_count": 2,
   "metadata": {
    "collapsed": true
   },
   "outputs": [],
   "source": [
    "data = pd.read_csv(\"ex1data1.txt\", sep=\",\", names=[\"population\", \"profit\"])\n",
    "m = len(data)"
   ]
  },
  {
   "cell_type": "code",
   "execution_count": 3,
   "metadata": {},
   "outputs": [
    {
     "data": {
      "text/html": [
       "<div>\n",
       "<style>\n",
       "    .dataframe thead tr:only-child th {\n",
       "        text-align: right;\n",
       "    }\n",
       "\n",
       "    .dataframe thead th {\n",
       "        text-align: left;\n",
       "    }\n",
       "\n",
       "    .dataframe tbody tr th {\n",
       "        vertical-align: top;\n",
       "    }\n",
       "</style>\n",
       "<table border=\"1\" class=\"dataframe\">\n",
       "  <thead>\n",
       "    <tr style=\"text-align: right;\">\n",
       "      <th></th>\n",
       "      <th>population</th>\n",
       "      <th>profit</th>\n",
       "    </tr>\n",
       "  </thead>\n",
       "  <tbody>\n",
       "    <tr>\n",
       "      <th>0</th>\n",
       "      <td>6.1101</td>\n",
       "      <td>17.5920</td>\n",
       "    </tr>\n",
       "    <tr>\n",
       "      <th>1</th>\n",
       "      <td>5.5277</td>\n",
       "      <td>9.1302</td>\n",
       "    </tr>\n",
       "    <tr>\n",
       "      <th>2</th>\n",
       "      <td>8.5186</td>\n",
       "      <td>13.6620</td>\n",
       "    </tr>\n",
       "    <tr>\n",
       "      <th>3</th>\n",
       "      <td>7.0032</td>\n",
       "      <td>11.8540</td>\n",
       "    </tr>\n",
       "    <tr>\n",
       "      <th>4</th>\n",
       "      <td>5.8598</td>\n",
       "      <td>6.8233</td>\n",
       "    </tr>\n",
       "  </tbody>\n",
       "</table>\n",
       "</div>"
      ],
      "text/plain": [
       "   population   profit\n",
       "0      6.1101  17.5920\n",
       "1      5.5277   9.1302\n",
       "2      8.5186  13.6620\n",
       "3      7.0032  11.8540\n",
       "4      5.8598   6.8233"
      ]
     },
     "execution_count": 3,
     "metadata": {},
     "output_type": "execute_result"
    }
   ],
   "source": [
    "data.head()"
   ]
  },
  {
   "cell_type": "code",
   "execution_count": 4,
   "metadata": {},
   "outputs": [
    {
     "data": {
      "text/plain": [
       "97"
      ]
     },
     "execution_count": 4,
     "metadata": {},
     "output_type": "execute_result"
    }
   ],
   "source": [
    "m"
   ]
  },
  {
   "cell_type": "code",
   "execution_count": 5,
   "metadata": {},
   "outputs": [
    {
     "data": {
      "image/png": "[encoded data removed]",
      "text/plain": [
       "<matplotlib.figure.Figure at 0x10e856cd0>"
      ]
     },
     "metadata": {},
     "output_type": "display_data"
    }
   ],
   "source": [
    "plt.scatter(data[\"population\"], data[\"profit\"], c=\"red\", marker=\"x\", alpha=0.5)\n",
    "plt.xlabel(\"Population of City in 10,000s\")\n",
    "plt.ylabel(\"Profit in $10,000s\")\n",
    "plt.show()"
   ]
  },
  {
   "cell_type": "code",
   "execution_count": 6,
   "metadata": {
    "collapsed": true
   },
   "outputs": [],
   "source": [
    "# Create matrix of our x-values\n",
    "x = data.iloc[:,0]\n",
    "# np.ones is our x0 and np.matrix(x.values) is our x1\n",
    "matX = np.vstack([np.ones(m), np.matrix(x.values)])\n",
    "\n",
    "# Create our matrix of y-values\n",
    "y = data.iloc[:,1]\n",
    "matY = np.matrix(y.values)\n",
    "\n",
    "init_theta = np.matrix(np.zeros(2))\n",
    "iterations = 1500\n",
    "alpha = 0.01"
   ]
  },
  {
   "cell_type": "code",
   "execution_count": 7,
   "metadata": {
    "collapsed": true
   },
   "outputs": [],
   "source": [
    "# Define the hypothesis function h\n",
    "def hyp(theta, x):\n",
    "    return np.matmul(theta, x)\n",
    "\n",
    "# Define cost function J\n",
    "def computeCost(X, y, theta):\n",
    "    newMat = np.square(hyp(theta, X) - y)\n",
    "    finalVal = (1/(2*float(m)))*np.sum(newMat)\n",
    "    return finalVal"
   ]
  },
  {
   "cell_type": "code",
   "execution_count": 8,
   "metadata": {},
   "outputs": [
    {
     "data": {
      "text/plain": [
       "54.242455082012377"
      ]
     },
     "execution_count": 8,
     "metadata": {},
     "output_type": "execute_result"
    }
   ],
   "source": [
    "computeCost(matX, matY, [-1,2])"
   ]
  },
  {
   "cell_type": "code",
   "execution_count": 9,
   "metadata": {
    "collapsed": true
   },
   "outputs": [],
   "source": [
    "# summation for derivative of the cost function to be used in our gradient descent formula\n",
    "def summation(X, Y, theta, j):\n",
    "    newMat = np.multiply((hyp(theta, X) - Y), X[j])\n",
    "    return np.sum(newMat)\n",
    "\n",
    "\n",
    "def gradDescent(X, Y, start_theta, alpha, iters):\n",
    "    theta = np.asarray(start_theta)\n",
    "    theta_history = np.asarray(init_theta)\n",
    "    j_history = [computeCost(matX,matY,init_theta)]\n",
    "    for i in range(iters):\n",
    "        # θj when j=0\n",
    "        temp0 = theta[0,0]\n",
    "        temp0 = theta[0,0] - (alpha/m)*summation(X, Y, theta, 0)\n",
    "        # θj when j=1\n",
    "        temp1 = theta[0,1]\n",
    "        temp1 = theta[0,1] - (alpha/m)*summation(X, Y, theta, 1)\n",
    "        \n",
    "        theta = np.array([(temp0, temp1)])\n",
    "        theta_history = np.vstack((theta_history, theta))\n",
    "        newJ = computeCost(matX,matY,theta)\n",
    "        j_history.append(newJ)\n",
    "    return theta_history, j_history\n"
   ]
  },
  {
   "cell_type": "code",
   "execution_count": 10,
   "metadata": {},
   "outputs": [
    {
     "data": {
      "text/plain": [
       "(array([-3.63029144,  1.16636235]), 4.483388256587725)"
      ]
     },
     "execution_count": 10,
     "metadata": {},
     "output_type": "execute_result"
    }
   ],
   "source": [
    "thet, j = gradDescent(matX, matY, init_theta, alpha, iterations)\n",
    "thet[iterations], j[iterations]"
   ]
  },
  {
   "cell_type": "code",
   "execution_count": 11,
   "metadata": {},
   "outputs": [
    {
     "data": {
      "image/png": "[encoded data removed]",
      "text/plain": [
       "<matplotlib.figure.Figure at 0x10e856090>"
      ]
     },
     "metadata": {},
     "output_type": "display_data"
    }
   ],
   "source": [
    "def fitLine(x):\n",
    "    return (thet[iterations][0] + thet[iterations][1]*x)\n",
    "\n",
    "plt.scatter(data[\"population\"], data[\"profit\"], c=\"red\", marker=\"x\", alpha=0.5)\n",
    "plt.plot(data[\"population\"], fitLine(data[\"population\"].values),c=\"blue\")\n",
    "plt.xlabel(\"Population of City in 10,000s\")\n",
    "plt.ylabel(\"Profit in $10,000s\")\n",
    "plt.show()"
   ]
  },
  {
   "cell_type": "code",
   "execution_count": 16,
   "metadata": {
    "scrolled": true
   },
   "outputs": [
    {
     "data": {
      "text/plain": [
       "Text(0,0.5,u'Cost')"
      ]
     },
     "execution_count": 16,
     "metadata": {},
     "output_type": "execute_result"
    },
    {
     "data": {
      "image/png": "[encoded data removed]",
      "text/plain": [
       "<matplotlib.figure.Figure at 0x1170af1d0>"
      ]
     },
     "metadata": {},
     "output_type": "display_data"
    }
   ],
   "source": [
    "# visualizing our cost minimization\n",
    "newArr = np.delete(j, 0)\n",
    "plt.plot(np.arange(iterations), newArr, '-b')\n",
    "plt.xlabel('Iterations')  \n",
    "plt.ylabel('Cost')  "
   ]
  }
 ],
 "metadata": {
  "kernelspec": {
   "display_name": "Python 2",
   "language": "python",
   "name": "python2"
  },
  "language_info": {
   "codemirror_mode": {
    "name": "ipython",
    "version": 2
   },
   "file_extension": ".py",
   "mimetype": "text/x-python",
   "name": "python",
   "nbconvert_exporter": "python",
   "pygments_lexer": "ipython2",
   "version": "2.7.14"
  }
 },
 "nbformat": 4,
 "nbformat_minor": 2
}
